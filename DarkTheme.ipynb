{
 "cells": [
  {
   "cell_type": "code",
   "execution_count": 3,
   "metadata": {},
   "outputs": [
    {
     "name": "stdout",
     "output_type": "stream",
     "text": [
      "Collecting jupyterthemes\n",
      "\u001b[?25l  Downloading https://files.pythonhosted.org/packages/8a/08/9dee6dfd7f2aad6c30282d55c8f495b4dc1e4747b4e2bdbeb80572ddf312/jupyterthemes-0.20.0-py2.py3-none-any.whl (7.0MB)\n",
      "\u001b[K    100% |████████████████████████████████| 7.0MB 141kB/s ta 0:00:011\n",
      "\u001b[?25hCollecting matplotlib>=1.4.3 (from jupyterthemes)\n",
      "\u001b[?25l  Downloading https://files.pythonhosted.org/packages/30/f2/10c822cb0ca5ebec58bd1892187bc3e3db64a867ac26531c6204663fc218/matplotlib-3.3.3-cp37-cp37m-manylinux1_x86_64.whl (11.6MB)\n",
      "\u001b[K    100% |████████████████████████████████| 11.6MB 104kB/s ta 0:00:01   55% |█████████████████▋              | 6.4MB 964kB/s eta 0:00:06\n",
      "\u001b[?25hRequirement already satisfied: jupyter-core in /home/NeoTRAN/.local/lib/python3.7/site-packages (from jupyterthemes) (4.7.0)\n",
      "Collecting lesscpy>=0.11.2 (from jupyterthemes)\n",
      "\u001b[?25l  Downloading https://files.pythonhosted.org/packages/f8/d2/665cda6614e3556eaeb7553a3a2963624c2e3bc9636777a1bb654b87b027/lesscpy-0.14.0-py2.py3-none-any.whl (46kB)\n",
      "\u001b[K    100% |████████████████████████████████| 51kB 671kB/s ta 0:00:01\n",
      "\u001b[?25hRequirement already satisfied: notebook>=5.6.0 in /home/NeoTRAN/.local/lib/python3.7/site-packages (from jupyterthemes) (6.1.5)\n",
      "Requirement already satisfied: ipython>=5.4.1 in /home/NeoTRAN/.local/lib/python3.7/site-packages (from jupyterthemes) (7.19.0)\n",
      "Collecting kiwisolver>=1.0.1 (from matplotlib>=1.4.3->jupyterthemes)\n",
      "\u001b[?25l  Downloading https://files.pythonhosted.org/packages/d2/46/231de802ade4225b76b96cffe419cf3ce52bbe92e3b092cf12db7d11c207/kiwisolver-1.3.1-cp37-cp37m-manylinux1_x86_64.whl (1.1MB)\n",
      "\u001b[K    100% |████████████████████████████████| 1.1MB 555kB/s ta 0:00:01\n",
      "\u001b[?25hRequirement already satisfied: pyparsing!=2.0.4,!=2.1.2,!=2.1.6,>=2.0.3 in /home/NeoTRAN/.local/lib/python3.7/site-packages (from matplotlib>=1.4.3->jupyterthemes) (2.4.7)\n",
      "Collecting cycler>=0.10 (from matplotlib>=1.4.3->jupyterthemes)\n",
      "  Downloading https://files.pythonhosted.org/packages/f7/d2/e07d3ebb2bd7af696440ce7e754c59dd546ffe1bbe732c8ab68b9c834e61/cycler-0.10.0-py2.py3-none-any.whl\n",
      "Collecting numpy>=1.15 (from matplotlib>=1.4.3->jupyterthemes)\n",
      "\u001b[?25l  Downloading https://files.pythonhosted.org/packages/5e/f2/9e562074f835b9b1227ca156f787be4554ae6bbe293c064337c4153cc4c8/numpy-1.19.4-cp37-cp37m-manylinux1_x86_64.whl (13.4MB)\n",
      "\u001b[K    100% |████████████████████████████████| 13.4MB 85kB/s eta 0:00:01\n",
      "\u001b[?25hRequirement already satisfied: python-dateutil>=2.1 in /home/NeoTRAN/.local/lib/python3.7/site-packages (from matplotlib>=1.4.3->jupyterthemes) (2.8.1)\n",
      "Collecting pillow>=6.2.0 (from matplotlib>=1.4.3->jupyterthemes)\n",
      "\u001b[?25l  Downloading https://files.pythonhosted.org/packages/af/fa/c1302a26d5e1a17fa8e10e43417b6cf038b0648c4b79fcf2302a4a0c5d30/Pillow-8.0.1-cp37-cp37m-manylinux1_x86_64.whl (2.2MB)\n",
      "\u001b[K    100% |████████████████████████████████| 2.2MB 438kB/s ta 0:00:01\n",
      "\u001b[?25hRequirement already satisfied: traitlets in /home/NeoTRAN/.local/lib/python3.7/site-packages (from jupyter-core->jupyterthemes) (5.0.5)\n",
      "Collecting ply (from lesscpy>=0.11.2->jupyterthemes)\n",
      "\u001b[?25l  Downloading https://files.pythonhosted.org/packages/a3/58/35da89ee790598a0700ea49b2a66594140f44dec458c07e8e3d4979137fc/ply-3.11-py2.py3-none-any.whl (49kB)\n",
      "\u001b[K    100% |████████████████████████████████| 51kB 1.2MB/s ta 0:00:01\n",
      "\u001b[?25hRequirement already satisfied: six in /usr/lib/python3/dist-packages (from lesscpy>=0.11.2->jupyterthemes) (1.12.0)\n",
      "Requirement already satisfied: argon2-cffi in /home/NeoTRAN/.local/lib/python3.7/site-packages (from notebook>=5.6.0->jupyterthemes) (20.1.0)\n",
      "Requirement already satisfied: ipykernel in /home/NeoTRAN/.local/lib/python3.7/site-packages (from notebook>=5.6.0->jupyterthemes) (5.4.2)\n",
      "Requirement already satisfied: tornado>=5.0 in /home/NeoTRAN/.local/lib/python3.7/site-packages (from notebook>=5.6.0->jupyterthemes) (6.1)\n",
      "Requirement already satisfied: jupyter-client>=5.3.4 in /home/NeoTRAN/.local/lib/python3.7/site-packages (from notebook>=5.6.0->jupyterthemes) (6.1.7)\n",
      "Requirement already satisfied: nbconvert in /home/NeoTRAN/.local/lib/python3.7/site-packages (from notebook>=5.6.0->jupyterthemes) (6.0.7)\n",
      "Requirement already satisfied: Send2Trash in /home/NeoTRAN/.local/lib/python3.7/site-packages (from notebook>=5.6.0->jupyterthemes) (1.5.0)\n",
      "Requirement already satisfied: nbformat in /home/NeoTRAN/.local/lib/python3.7/site-packages (from notebook>=5.6.0->jupyterthemes) (5.0.8)\n",
      "Requirement already satisfied: terminado>=0.8.3 in /home/NeoTRAN/.local/lib/python3.7/site-packages (from notebook>=5.6.0->jupyterthemes) (0.9.1)\n",
      "Requirement already satisfied: prometheus-client in /home/NeoTRAN/.local/lib/python3.7/site-packages (from notebook>=5.6.0->jupyterthemes) (0.9.0)\n",
      "Requirement already satisfied: pyzmq>=17 in /home/NeoTRAN/.local/lib/python3.7/site-packages (from notebook>=5.6.0->jupyterthemes) (20.0.0)\n",
      "Requirement already satisfied: ipython-genutils in /home/NeoTRAN/.local/lib/python3.7/site-packages (from notebook>=5.6.0->jupyterthemes) (0.2.0)\n",
      "Requirement already satisfied: jinja2 in /home/NeoTRAN/.local/lib/python3.7/site-packages (from notebook>=5.6.0->jupyterthemes) (2.11.2)\n",
      "Requirement already satisfied: jedi>=0.10 in /home/NeoTRAN/.local/lib/python3.7/site-packages (from ipython>=5.4.1->jupyterthemes) (0.17.2)\n",
      "Requirement already satisfied: pexpect>4.3; sys_platform != \"win32\" in /usr/lib/python3/dist-packages (from ipython>=5.4.1->jupyterthemes) (4.6.0)\n",
      "Requirement already satisfied: decorator in /home/NeoTRAN/.local/lib/python3.7/site-packages (from ipython>=5.4.1->jupyterthemes) (4.4.2)\n",
      "Requirement already satisfied: pygments in /home/NeoTRAN/.local/lib/python3.7/site-packages (from ipython>=5.4.1->jupyterthemes) (2.7.3)\n",
      "Requirement already satisfied: backcall in /home/NeoTRAN/.local/lib/python3.7/site-packages (from ipython>=5.4.1->jupyterthemes) (0.2.0)\n",
      "Requirement already satisfied: prompt-toolkit!=3.0.0,!=3.0.1,<3.1.0,>=2.0.0 in /home/NeoTRAN/.local/lib/python3.7/site-packages (from ipython>=5.4.1->jupyterthemes) (3.0.8)\n",
      "Requirement already satisfied: pickleshare in /home/NeoTRAN/.local/lib/python3.7/site-packages (from ipython>=5.4.1->jupyterthemes) (0.7.5)\n",
      "Requirement already satisfied: setuptools>=18.5 in /usr/lib/python3/dist-packages (from ipython>=5.4.1->jupyterthemes) (40.8.0)\n",
      "Requirement already satisfied: cffi>=1.0.0 in /home/NeoTRAN/.local/lib/python3.7/site-packages (from argon2-cffi->notebook>=5.6.0->jupyterthemes) (1.14.4)\n",
      "Requirement already satisfied: mistune<2,>=0.8.1 in /home/NeoTRAN/.local/lib/python3.7/site-packages (from nbconvert->notebook>=5.6.0->jupyterthemes) (0.8.4)\n",
      "Requirement already satisfied: bleach in /home/NeoTRAN/.local/lib/python3.7/site-packages (from nbconvert->notebook>=5.6.0->jupyterthemes) (3.2.1)\n",
      "Requirement already satisfied: testpath in /home/NeoTRAN/.local/lib/python3.7/site-packages (from nbconvert->notebook>=5.6.0->jupyterthemes) (0.4.4)\n",
      "Requirement already satisfied: nbclient<0.6.0,>=0.5.0 in /home/NeoTRAN/.local/lib/python3.7/site-packages (from nbconvert->notebook>=5.6.0->jupyterthemes) (0.5.1)\n",
      "Requirement already satisfied: entrypoints>=0.2.2 in /home/NeoTRAN/.local/lib/python3.7/site-packages (from nbconvert->notebook>=5.6.0->jupyterthemes) (0.3)\n",
      "Requirement already satisfied: defusedxml in /usr/lib/python3/dist-packages (from nbconvert->notebook>=5.6.0->jupyterthemes) (0.5.0)\n",
      "Requirement already satisfied: pandocfilters>=1.4.1 in /home/NeoTRAN/.local/lib/python3.7/site-packages (from nbconvert->notebook>=5.6.0->jupyterthemes) (1.4.3)\n",
      "Requirement already satisfied: jupyterlab-pygments in /home/NeoTRAN/.local/lib/python3.7/site-packages (from nbconvert->notebook>=5.6.0->jupyterthemes) (0.1.2)\n",
      "Requirement already satisfied: jsonschema!=2.5.0,>=2.4 in /home/NeoTRAN/.local/lib/python3.7/site-packages (from nbformat->notebook>=5.6.0->jupyterthemes) (3.2.0)\n",
      "Requirement already satisfied: ptyprocess; os_name != \"nt\" in /home/NeoTRAN/.local/lib/python3.7/site-packages (from terminado>=0.8.3->notebook>=5.6.0->jupyterthemes) (0.6.0)\n",
      "Requirement already satisfied: MarkupSafe>=0.23 in /home/NeoTRAN/.local/lib/python3.7/site-packages (from jinja2->notebook>=5.6.0->jupyterthemes) (1.1.1)\n",
      "Requirement already satisfied: parso<0.8.0,>=0.7.0 in /home/NeoTRAN/.local/lib/python3.7/site-packages (from jedi>=0.10->ipython>=5.4.1->jupyterthemes) (0.7.1)\n",
      "Requirement already satisfied: wcwidth in /home/NeoTRAN/.local/lib/python3.7/site-packages (from prompt-toolkit!=3.0.0,!=3.0.1,<3.1.0,>=2.0.0->ipython>=5.4.1->jupyterthemes) (0.2.5)\n",
      "Requirement already satisfied: pycparser in /home/NeoTRAN/.local/lib/python3.7/site-packages (from cffi>=1.0.0->argon2-cffi->notebook>=5.6.0->jupyterthemes) (2.20)\n",
      "Requirement already satisfied: webencodings in /home/NeoTRAN/.local/lib/python3.7/site-packages (from bleach->nbconvert->notebook>=5.6.0->jupyterthemes) (0.5.1)\n",
      "Requirement already satisfied: packaging in /home/NeoTRAN/.local/lib/python3.7/site-packages (from bleach->nbconvert->notebook>=5.6.0->jupyterthemes) (20.8)\n",
      "Requirement already satisfied: nest-asyncio in /home/NeoTRAN/.local/lib/python3.7/site-packages (from nbclient<0.6.0,>=0.5.0->nbconvert->notebook>=5.6.0->jupyterthemes) (1.4.3)\n",
      "Requirement already satisfied: async-generator in /home/NeoTRAN/.local/lib/python3.7/site-packages (from nbclient<0.6.0,>=0.5.0->nbconvert->notebook>=5.6.0->jupyterthemes) (1.10)\n",
      "Requirement already satisfied: attrs>=17.4.0 in /home/NeoTRAN/.local/lib/python3.7/site-packages (from jsonschema!=2.5.0,>=2.4->nbformat->notebook>=5.6.0->jupyterthemes) (20.3.0)\n"
     ]
    },
    {
     "name": "stdout",
     "output_type": "stream",
     "text": [
      "Requirement already satisfied: importlib-metadata; python_version < \"3.8\" in /home/NeoTRAN/.local/lib/python3.7/site-packages (from jsonschema!=2.5.0,>=2.4->nbformat->notebook>=5.6.0->jupyterthemes) (3.3.0)\n",
      "Requirement already satisfied: pyrsistent>=0.14.0 in /home/NeoTRAN/.local/lib/python3.7/site-packages (from jsonschema!=2.5.0,>=2.4->nbformat->notebook>=5.6.0->jupyterthemes) (0.17.3)\n",
      "Requirement already satisfied: typing-extensions>=3.6.4; python_version < \"3.8\" in /home/NeoTRAN/.local/lib/python3.7/site-packages (from importlib-metadata; python_version < \"3.8\"->jsonschema!=2.5.0,>=2.4->nbformat->notebook>=5.6.0->jupyterthemes) (3.7.4.3)\n",
      "Requirement already satisfied: zipp>=0.5 in /home/NeoTRAN/.local/lib/python3.7/site-packages (from importlib-metadata; python_version < \"3.8\"->jsonschema!=2.5.0,>=2.4->nbformat->notebook>=5.6.0->jupyterthemes) (3.4.0)\n",
      "Installing collected packages: kiwisolver, cycler, numpy, pillow, matplotlib, ply, lesscpy, jupyterthemes\n",
      "\u001b[33m  The scripts f2py, f2py3 and f2py3.7 are installed in '/home/NeoTRAN/.local/bin' which is not on PATH.\n",
      "  Consider adding this directory to PATH or, if you prefer to suppress this warning, use --no-warn-script-location.\u001b[0m\n",
      "\u001b[33m  The script lesscpy is installed in '/home/NeoTRAN/.local/bin' which is not on PATH.\n",
      "  Consider adding this directory to PATH or, if you prefer to suppress this warning, use --no-warn-script-location.\u001b[0m\n",
      "\u001b[33m  The scripts jt and jupyter-theme are installed in '/home/NeoTRAN/.local/bin' which is not on PATH.\n",
      "  Consider adding this directory to PATH or, if you prefer to suppress this warning, use --no-warn-script-location.\u001b[0m\n",
      "Successfully installed cycler-0.10.0 jupyterthemes-0.20.0 kiwisolver-1.3.1 lesscpy-0.14.0 matplotlib-3.3.3 numpy-1.19.4 pillow-8.0.1 ply-3.11\n"
     ]
    }
   ],
   "source": [
    "# Install library\n",
    "!pip3 install jupyterthemes"
   ]
  },
  {
   "cell_type": "code",
   "execution_count": 4,
   "metadata": {},
   "outputs": [
    {
     "name": "stdout",
     "output_type": "stream",
     "text": [
      "\u001b[33mRetrying (Retry(total=4, connect=None, read=None, redirect=None, status=None)) after connection broken by 'NewConnectionError('<urllib3.connection.VerifiedHTTPSConnection object at 0x7fc9bd605898>: Failed to establish a new connection: [Errno -2] Nombre o servicio desconocido')': /simple/jupyterthemes/\u001b[0m\n",
      "\u001b[33mRetrying (Retry(total=3, connect=None, read=None, redirect=None, status=None)) after connection broken by 'NewConnectionError('<urllib3.connection.VerifiedHTTPSConnection object at 0x7fc9bd605dd8>: Failed to establish a new connection: [Errno -2] Nombre o servicio desconocido')': /simple/jupyterthemes/\u001b[0m\n",
      "\u001b[33mRetrying (Retry(total=2, connect=None, read=None, redirect=None, status=None)) after connection broken by 'NewConnectionError('<urllib3.connection.VerifiedHTTPSConnection object at 0x7fc9bd605630>: Failed to establish a new connection: [Errno -2] Nombre o servicio desconocido')': /simple/jupyterthemes/\u001b[0m\n",
      "Requirement already up-to-date: jupyterthemes in /home/NeoTRAN/.local/lib/python3.7/site-packages (0.20.0)\n",
      "Requirement already satisfied, skipping upgrade: jupyter-core in /home/NeoTRAN/.local/lib/python3.7/site-packages (from jupyterthemes) (4.7.0)\n",
      "Requirement already satisfied, skipping upgrade: lesscpy>=0.11.2 in /home/NeoTRAN/.local/lib/python3.7/site-packages (from jupyterthemes) (0.14.0)\n",
      "Requirement already satisfied, skipping upgrade: notebook>=5.6.0 in /home/NeoTRAN/.local/lib/python3.7/site-packages (from jupyterthemes) (6.1.5)\n",
      "Requirement already satisfied, skipping upgrade: matplotlib>=1.4.3 in /home/NeoTRAN/.local/lib/python3.7/site-packages (from jupyterthemes) (3.3.3)\n",
      "Requirement already satisfied, skipping upgrade: ipython>=5.4.1 in /home/NeoTRAN/.local/lib/python3.7/site-packages (from jupyterthemes) (7.19.0)\n",
      "Requirement already satisfied, skipping upgrade: traitlets in /home/NeoTRAN/.local/lib/python3.7/site-packages (from jupyter-core->jupyterthemes) (5.0.5)\n",
      "Requirement already satisfied, skipping upgrade: ply in /home/NeoTRAN/.local/lib/python3.7/site-packages (from lesscpy>=0.11.2->jupyterthemes) (3.11)\n",
      "Requirement already satisfied, skipping upgrade: six in /usr/lib/python3/dist-packages (from lesscpy>=0.11.2->jupyterthemes) (1.12.0)\n",
      "Requirement already satisfied, skipping upgrade: argon2-cffi in /home/NeoTRAN/.local/lib/python3.7/site-packages (from notebook>=5.6.0->jupyterthemes) (20.1.0)\n",
      "Requirement already satisfied, skipping upgrade: jinja2 in /home/NeoTRAN/.local/lib/python3.7/site-packages (from notebook>=5.6.0->jupyterthemes) (2.11.2)\n",
      "Requirement already satisfied, skipping upgrade: nbformat in /home/NeoTRAN/.local/lib/python3.7/site-packages (from notebook>=5.6.0->jupyterthemes) (5.0.8)\n",
      "Requirement already satisfied, skipping upgrade: ipykernel in /home/NeoTRAN/.local/lib/python3.7/site-packages (from notebook>=5.6.0->jupyterthemes) (5.4.2)\n",
      "Requirement already satisfied, skipping upgrade: pyzmq>=17 in /home/NeoTRAN/.local/lib/python3.7/site-packages (from notebook>=5.6.0->jupyterthemes) (20.0.0)\n",
      "Requirement already satisfied, skipping upgrade: nbconvert in /home/NeoTRAN/.local/lib/python3.7/site-packages (from notebook>=5.6.0->jupyterthemes) (6.0.7)\n",
      "Requirement already satisfied, skipping upgrade: terminado>=0.8.3 in /home/NeoTRAN/.local/lib/python3.7/site-packages (from notebook>=5.6.0->jupyterthemes) (0.9.1)\n",
      "Requirement already satisfied, skipping upgrade: Send2Trash in /home/NeoTRAN/.local/lib/python3.7/site-packages (from notebook>=5.6.0->jupyterthemes) (1.5.0)\n",
      "Requirement already satisfied, skipping upgrade: prometheus-client in /home/NeoTRAN/.local/lib/python3.7/site-packages (from notebook>=5.6.0->jupyterthemes) (0.9.0)\n",
      "Requirement already satisfied, skipping upgrade: tornado>=5.0 in /home/NeoTRAN/.local/lib/python3.7/site-packages (from notebook>=5.6.0->jupyterthemes) (6.1)\n",
      "Requirement already satisfied, skipping upgrade: jupyter-client>=5.3.4 in /home/NeoTRAN/.local/lib/python3.7/site-packages (from notebook>=5.6.0->jupyterthemes) (6.1.7)\n",
      "Requirement already satisfied, skipping upgrade: ipython-genutils in /home/NeoTRAN/.local/lib/python3.7/site-packages (from notebook>=5.6.0->jupyterthemes) (0.2.0)\n",
      "Requirement already satisfied, skipping upgrade: pillow>=6.2.0 in /home/NeoTRAN/.local/lib/python3.7/site-packages (from matplotlib>=1.4.3->jupyterthemes) (8.0.1)\n",
      "Requirement already satisfied, skipping upgrade: cycler>=0.10 in /home/NeoTRAN/.local/lib/python3.7/site-packages (from matplotlib>=1.4.3->jupyterthemes) (0.10.0)\n",
      "Requirement already satisfied, skipping upgrade: pyparsing!=2.0.4,!=2.1.2,!=2.1.6,>=2.0.3 in /home/NeoTRAN/.local/lib/python3.7/site-packages (from matplotlib>=1.4.3->jupyterthemes) (2.4.7)\n",
      "Requirement already satisfied, skipping upgrade: python-dateutil>=2.1 in /home/NeoTRAN/.local/lib/python3.7/site-packages (from matplotlib>=1.4.3->jupyterthemes) (2.8.1)\n",
      "Requirement already satisfied, skipping upgrade: kiwisolver>=1.0.1 in /home/NeoTRAN/.local/lib/python3.7/site-packages (from matplotlib>=1.4.3->jupyterthemes) (1.3.1)\n",
      "Requirement already satisfied, skipping upgrade: numpy>=1.15 in /home/NeoTRAN/.local/lib/python3.7/site-packages (from matplotlib>=1.4.3->jupyterthemes) (1.19.4)\n",
      "Requirement already satisfied, skipping upgrade: pexpect>4.3; sys_platform != \"win32\" in /usr/lib/python3/dist-packages (from ipython>=5.4.1->jupyterthemes) (4.6.0)\n",
      "Requirement already satisfied, skipping upgrade: jedi>=0.10 in /home/NeoTRAN/.local/lib/python3.7/site-packages (from ipython>=5.4.1->jupyterthemes) (0.17.2)\n",
      "Requirement already satisfied, skipping upgrade: backcall in /home/NeoTRAN/.local/lib/python3.7/site-packages (from ipython>=5.4.1->jupyterthemes) (0.2.0)\n",
      "Requirement already satisfied, skipping upgrade: pickleshare in /home/NeoTRAN/.local/lib/python3.7/site-packages (from ipython>=5.4.1->jupyterthemes) (0.7.5)\n",
      "Requirement already satisfied, skipping upgrade: prompt-toolkit!=3.0.0,!=3.0.1,<3.1.0,>=2.0.0 in /home/NeoTRAN/.local/lib/python3.7/site-packages (from ipython>=5.4.1->jupyterthemes) (3.0.8)\n",
      "Requirement already satisfied, skipping upgrade: pygments in /home/NeoTRAN/.local/lib/python3.7/site-packages (from ipython>=5.4.1->jupyterthemes) (2.7.3)\n",
      "Requirement already satisfied, skipping upgrade: decorator in /home/NeoTRAN/.local/lib/python3.7/site-packages (from ipython>=5.4.1->jupyterthemes) (4.4.2)\n",
      "Requirement already satisfied, skipping upgrade: setuptools>=18.5 in /usr/lib/python3/dist-packages (from ipython>=5.4.1->jupyterthemes) (40.8.0)\n",
      "Requirement already satisfied, skipping upgrade: cffi>=1.0.0 in /home/NeoTRAN/.local/lib/python3.7/site-packages (from argon2-cffi->notebook>=5.6.0->jupyterthemes) (1.14.4)\n",
      "Requirement already satisfied, skipping upgrade: MarkupSafe>=0.23 in /home/NeoTRAN/.local/lib/python3.7/site-packages (from jinja2->notebook>=5.6.0->jupyterthemes) (1.1.1)\n",
      "Requirement already satisfied, skipping upgrade: jsonschema!=2.5.0,>=2.4 in /home/NeoTRAN/.local/lib/python3.7/site-packages (from nbformat->notebook>=5.6.0->jupyterthemes) (3.2.0)\n",
      "Requirement already satisfied, skipping upgrade: entrypoints>=0.2.2 in /home/NeoTRAN/.local/lib/python3.7/site-packages (from nbconvert->notebook>=5.6.0->jupyterthemes) (0.3)\n",
      "Requirement already satisfied, skipping upgrade: nbclient<0.6.0,>=0.5.0 in /home/NeoTRAN/.local/lib/python3.7/site-packages (from nbconvert->notebook>=5.6.0->jupyterthemes) (0.5.1)\n",
      "Requirement already satisfied, skipping upgrade: testpath in /home/NeoTRAN/.local/lib/python3.7/site-packages (from nbconvert->notebook>=5.6.0->jupyterthemes) (0.4.4)\n",
      "Requirement already satisfied, skipping upgrade: defusedxml in /usr/lib/python3/dist-packages (from nbconvert->notebook>=5.6.0->jupyterthemes) (0.5.0)\n",
      "Requirement already satisfied, skipping upgrade: pandocfilters>=1.4.1 in /home/NeoTRAN/.local/lib/python3.7/site-packages (from nbconvert->notebook>=5.6.0->jupyterthemes) (1.4.3)\n",
      "Requirement already satisfied, skipping upgrade: bleach in /home/NeoTRAN/.local/lib/python3.7/site-packages (from nbconvert->notebook>=5.6.0->jupyterthemes) (3.2.1)\n",
      "Requirement already satisfied, skipping upgrade: mistune<2,>=0.8.1 in /home/NeoTRAN/.local/lib/python3.7/site-packages (from nbconvert->notebook>=5.6.0->jupyterthemes) (0.8.4)\n",
      "Requirement already satisfied, skipping upgrade: jupyterlab-pygments in /home/NeoTRAN/.local/lib/python3.7/site-packages (from nbconvert->notebook>=5.6.0->jupyterthemes) (0.1.2)\n",
      "Requirement already satisfied, skipping upgrade: ptyprocess; os_name != \"nt\" in /home/NeoTRAN/.local/lib/python3.7/site-packages (from terminado>=0.8.3->notebook>=5.6.0->jupyterthemes) (0.6.0)\n",
      "Requirement already satisfied, skipping upgrade: parso<0.8.0,>=0.7.0 in /home/NeoTRAN/.local/lib/python3.7/site-packages (from jedi>=0.10->ipython>=5.4.1->jupyterthemes) (0.7.1)\n",
      "Requirement already satisfied, skipping upgrade: wcwidth in /home/NeoTRAN/.local/lib/python3.7/site-packages (from prompt-toolkit!=3.0.0,!=3.0.1,<3.1.0,>=2.0.0->ipython>=5.4.1->jupyterthemes) (0.2.5)\n",
      "Requirement already satisfied, skipping upgrade: pycparser in /home/NeoTRAN/.local/lib/python3.7/site-packages (from cffi>=1.0.0->argon2-cffi->notebook>=5.6.0->jupyterthemes) (2.20)\n",
      "Requirement already satisfied, skipping upgrade: importlib-metadata; python_version < \"3.8\" in /home/NeoTRAN/.local/lib/python3.7/site-packages (from jsonschema!=2.5.0,>=2.4->nbformat->notebook>=5.6.0->jupyterthemes) (3.3.0)\n"
     ]
    },
    {
     "name": "stdout",
     "output_type": "stream",
     "text": [
      "Requirement already satisfied, skipping upgrade: pyrsistent>=0.14.0 in /home/NeoTRAN/.local/lib/python3.7/site-packages (from jsonschema!=2.5.0,>=2.4->nbformat->notebook>=5.6.0->jupyterthemes) (0.17.3)\n",
      "Requirement already satisfied, skipping upgrade: attrs>=17.4.0 in /home/NeoTRAN/.local/lib/python3.7/site-packages (from jsonschema!=2.5.0,>=2.4->nbformat->notebook>=5.6.0->jupyterthemes) (20.3.0)\n",
      "Requirement already satisfied, skipping upgrade: async-generator in /home/NeoTRAN/.local/lib/python3.7/site-packages (from nbclient<0.6.0,>=0.5.0->nbconvert->notebook>=5.6.0->jupyterthemes) (1.10)\n",
      "Requirement already satisfied, skipping upgrade: nest-asyncio in /home/NeoTRAN/.local/lib/python3.7/site-packages (from nbclient<0.6.0,>=0.5.0->nbconvert->notebook>=5.6.0->jupyterthemes) (1.4.3)\n",
      "Requirement already satisfied, skipping upgrade: packaging in /home/NeoTRAN/.local/lib/python3.7/site-packages (from bleach->nbconvert->notebook>=5.6.0->jupyterthemes) (20.8)\n",
      "Requirement already satisfied, skipping upgrade: webencodings in /home/NeoTRAN/.local/lib/python3.7/site-packages (from bleach->nbconvert->notebook>=5.6.0->jupyterthemes) (0.5.1)\n",
      "Requirement already satisfied, skipping upgrade: zipp>=0.5 in /home/NeoTRAN/.local/lib/python3.7/site-packages (from importlib-metadata; python_version < \"3.8\"->jsonschema!=2.5.0,>=2.4->nbformat->notebook>=5.6.0->jupyterthemes) (3.4.0)\n",
      "Requirement already satisfied, skipping upgrade: typing-extensions>=3.6.4; python_version < \"3.8\" in /home/NeoTRAN/.local/lib/python3.7/site-packages (from importlib-metadata; python_version < \"3.8\"->jsonschema!=2.5.0,>=2.4->nbformat->notebook>=5.6.0->jupyterthemes) (3.7.4.3)\n"
     ]
    }
   ],
   "source": [
    "!pip3 install --upgrade jupyterthemes"
   ]
  },
  {
   "cell_type": "code",
   "execution_count": 7,
   "metadata": {},
   "outputs": [],
   "source": [
    "!jt -t monokai -N -T -kl # ~/.local/bin/jt"
   ]
  },
  {
   "cell_type": "code",
   "execution_count": null,
   "metadata": {},
   "outputs": [],
   "source": []
  }
 ],
 "metadata": {
  "kernelspec": {
   "display_name": "Python 3",
   "language": "python",
   "name": "python3"
  },
  "language_info": {
   "codemirror_mode": {
    "name": "ipython",
    "version": 3
   },
   "file_extension": ".py",
   "mimetype": "text/x-python",
   "name": "python",
   "nbconvert_exporter": "python",
   "pygments_lexer": "ipython3",
   "version": "3.7.3"
  }
 },
 "nbformat": 4,
 "nbformat_minor": 4
}
